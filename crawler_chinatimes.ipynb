{
 "cells": [
  {
   "cell_type": "markdown",
   "metadata": {},
   "source": [
    "# Chinatimes 中國時報"
   ]
  },
  {
   "cell_type": "code",
   "execution_count": 1,
   "metadata": {},
   "outputs": [],
   "source": [
    "import pandas, requests, time, random\n",
    "from bs4 import BeautifulSoup\n",
    "from tqdm import tqdm"
   ]
  },
  {
   "cell_type": "markdown",
   "metadata": {},
   "source": [
    "## 1. crawl news link"
   ]
  },
  {
   "cell_type": "code",
   "execution_count": 3,
   "metadata": {},
   "outputs": [
    {
     "name": "stderr",
     "output_type": "stream",
     "text": [
      "100%|██████████████████████████████████████████████████████████████████████████████████| 10/10 [00:05<00:00,  1.59it/s]\n"
     ]
    },
    {
     "name": "stdout",
     "output_type": "stream",
     "text": [
      "58\n"
     ]
    },
    {
     "name": "stderr",
     "output_type": "stream",
     "text": [
      "100%|██████████████████████████████████████████████████████████████████████████████████| 10/10 [00:07<00:00,  1.27it/s]\n"
     ]
    },
    {
     "name": "stdout",
     "output_type": "stream",
     "text": [
      "258\n"
     ]
    }
   ],
   "source": [
    "# 類別 : 政治, 生活, 娛樂, 財經, 社會, 國際, 軍事, 兩岸, 體育, 科技\n",
    "links = []\n",
    "\n",
    "for page in tqdm(range(1, 11)) : # from page 1 to 20\n",
    "    page = requests.get(\"https://www.chinatimes.com/world/total?page=\"+str(page))\n",
    "    soup = BeautifulSoup(page.content, \"lxml\")\n",
    "    title = soup.find_all(\"h3\", \"title\")\n",
    "    links += list(map(lambda x : \"https://www.chinatimes.com\"+x.find('a')['href'], title))\n",
    "\n",
    "    time.sleep(random.random())\n",
    "print(len(links))\n",
    "\n",
    "for page in tqdm(range(1, 11)) : # from page 1 to 20\n",
    "    page = requests.get(\"https://www.chinatimes.com/chinese/total?page=\"+str(page))\n",
    "    soup = BeautifulSoup(page.content, \"lxml\")\n",
    "    title = soup.find_all(\"h3\", \"title\")\n",
    "    links += list(map(lambda x : \"https://www.chinatimes.com\"+x.find('a')['href'], title))\n",
    "\n",
    "    time.sleep(random.random())\n",
    "    \n",
    "print(len(links))"
   ]
  },
  {
   "cell_type": "code",
   "execution_count": 4,
   "metadata": {},
   "outputs": [
    {
     "name": "stdout",
     "output_type": "stream",
     "text": [
      "258\n"
     ]
    },
    {
     "data": {
      "text/plain": [
       "['https://www.chinatimes.com/realtimenews/20190530002059-260408',\n",
       " 'https://www.chinatimes.com/realtimenews/20190530002070-260408',\n",
       " 'https://www.chinatimes.com/realtimenews/20190530002391-260408',\n",
       " 'https://www.chinatimes.com/realtimenews/20190530002231-260408',\n",
       " 'https://www.chinatimes.com/realtimenews/20190530001740-260408',\n",
       " 'https://www.chinatimes.com/realtimenews/20190530001948-260408',\n",
       " 'https://www.chinatimes.com/realtimenews/20190530001047-260408',\n",
       " 'https://www.chinatimes.com/realtimenews/20190530000012-260408',\n",
       " 'https://www.chinatimes.com/realtimenews/20190530000011-260408',\n",
       " 'https://www.chinatimes.com/realtimenews/20190530000014-260408']"
      ]
     },
     "execution_count": 4,
     "metadata": {},
     "output_type": "execute_result"
    }
   ],
   "source": [
    "print(len(links))\n",
    "links[:10]"
   ]
  },
  {
   "cell_type": "code",
   "execution_count": 5,
   "metadata": {},
   "outputs": [
    {
     "name": "stdout",
     "output_type": "stream",
     "text": [
      "258\n"
     ]
    },
    {
     "data": {
      "text/plain": [
       "array(['https://www.chinatimes.com/realtimenews/20190530002059-260408',\n",
       "       'https://www.chinatimes.com/realtimenews/20190530002070-260408',\n",
       "       'https://www.chinatimes.com/realtimenews/20190530002391-260408',\n",
       "       'https://www.chinatimes.com/realtimenews/20190530002231-260408',\n",
       "       'https://www.chinatimes.com/realtimenews/20190530001740-260408',\n",
       "       'https://www.chinatimes.com/realtimenews/20190530001948-260408',\n",
       "       'https://www.chinatimes.com/realtimenews/20190530001047-260408',\n",
       "       'https://www.chinatimes.com/realtimenews/20190530000012-260408',\n",
       "       'https://www.chinatimes.com/realtimenews/20190530000011-260408',\n",
       "       'https://www.chinatimes.com/realtimenews/20190530000014-260408'],\n",
       "      dtype=object)"
      ]
     },
     "execution_count": 5,
     "metadata": {},
     "output_type": "execute_result"
    }
   ],
   "source": [
    "links = pandas.DataFrame({'link':links})\n",
    "links = pandas.unique(links['link'])\n",
    "print(len(links))\n",
    "links[:10]"
   ]
  },
  {
   "cell_type": "markdown",
   "metadata": {},
   "source": [
    "## 2. crawl news"
   ]
  },
  {
   "cell_type": "code",
   "execution_count": 6,
   "metadata": {},
   "outputs": [
    {
     "name": "stderr",
     "output_type": "stream",
     "text": [
      "100%|████████████████████████████████████████████████████████████████████████████████| 258/258 [03:37<00:00,  1.08it/s]\n"
     ]
    }
   ],
   "source": [
    "titles = []\n",
    "contents = []\n",
    "dates = []\n",
    "\n",
    "for link in tqdm(links):\n",
    "    try:\n",
    "        # crawl news \n",
    "        time.sleep(random.random()) # sleep 0 ~ 1 sec\n",
    "        page = requests.get(link)\n",
    "        soup = BeautifulSoup(page.content, \"lxml\")\n",
    "\n",
    "        # extract title and content\n",
    "        title = soup.find_all('meta', {\"name\":\"title\"})[0]['content']\n",
    "        content = soup.find_all('meta', {\"name\":\"description\"})[0]['content'].replace('\\n','')\n",
    "        date = soup.find_all('meta', {\"name\":\"pubdate\"})[0]['content'].split('T')[0]\n",
    "        \n",
    "        # store title and content\n",
    "        titles.append(title)\n",
    "        contents.append(content)\n",
    "        dates.append(date)\n",
    "        \n",
    "    except Exception as e:\n",
    "        print('[ERROR]', link)"
   ]
  },
  {
   "cell_type": "code",
   "execution_count": 7,
   "metadata": {},
   "outputs": [
    {
     "name": "stdout",
     "output_type": "stream",
     "text": [
      "[INFO] the result has been saved successfully : ./chinatimes.csv\n"
     ]
    }
   ],
   "source": [
    "# ckeck len\n",
    "if not len(titles) == len(contents) :\n",
    "    raise ValueError('Something wrong at the previous step. The num of titles and contents are mismatch.')\n",
    "else:\n",
    "    df = pandas.DataFrame({'title':titles, 'content':contents, 'date':dates})\n",
    "    df = df[['date', 'title', 'content']]\n",
    "    df.to_csv('chinatimes.csv', encoding='utf-8', index=False)\n",
    "    print('[INFO] the result has been saved successfully : ./chinatimes.csv')"
   ]
  },
  {
   "cell_type": "code",
   "execution_count": null,
   "metadata": {},
   "outputs": [],
   "source": []
  }
 ],
 "metadata": {
  "kernelspec": {
   "display_name": "Python 3",
   "language": "python",
   "name": "python3"
  },
  "language_info": {
   "codemirror_mode": {
    "name": "ipython",
    "version": 3
   },
   "file_extension": ".py",
   "mimetype": "text/x-python",
   "name": "python",
   "nbconvert_exporter": "python",
   "pygments_lexer": "ipython3",
   "version": "3.6.4"
  }
 },
 "nbformat": 4,
 "nbformat_minor": 2
}
