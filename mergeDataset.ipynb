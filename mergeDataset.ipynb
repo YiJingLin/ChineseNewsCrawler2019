{
 "cells": [
  {
   "cell_type": "code",
   "execution_count": 2,
   "metadata": {},
   "outputs": [],
   "source": [
    "import pandas as pd"
   ]
  },
  {
   "cell_type": "markdown",
   "metadata": {},
   "source": [
    "# 1. load tables"
   ]
  },
  {
   "cell_type": "code",
   "execution_count": 4,
   "metadata": {},
   "outputs": [
    {
     "data": {
      "text/html": [
       "<div>\n",
       "<style scoped>\n",
       "    .dataframe tbody tr th:only-of-type {\n",
       "        vertical-align: middle;\n",
       "    }\n",
       "\n",
       "    .dataframe tbody tr th {\n",
       "        vertical-align: top;\n",
       "    }\n",
       "\n",
       "    .dataframe thead th {\n",
       "        text-align: right;\n",
       "    }\n",
       "</style>\n",
       "<table border=\"1\" class=\"dataframe\">\n",
       "  <thead>\n",
       "    <tr style=\"text-align: right;\">\n",
       "      <th></th>\n",
       "      <th>date</th>\n",
       "      <th>title</th>\n",
       "      <th>content</th>\n",
       "    </tr>\n",
       "  </thead>\n",
       "  <tbody>\n",
       "    <tr>\n",
       "      <th>0</th>\n",
       "      <td>2019-05-30</td>\n",
       "      <td>美匯率操縱國觀察名單 陸等9國入列</td>\n",
       "      <td>美國財政部28日公布最新匯率報告，中國大陸被列入觀察名單，財長米努勤點名人民幣匯率缺乏透明度...</td>\n",
       "    </tr>\n",
       "    <tr>\n",
       "      <th>1</th>\n",
       "      <td>2019-05-29</td>\n",
       "      <td>梅伊因無法脫歐下台 這位高層以同樣原因繼續做</td>\n",
       "      <td>英國國會下議院議長伯考（John Bercow）在美國出席活動時告訴英國衛報，脫歐尚未完成，...</td>\n",
       "    </tr>\n",
       "    <tr>\n",
       "      <th>2</th>\n",
       "      <td>2019-05-30</td>\n",
       "      <td>吉林振興 開啟氫能經濟時代</td>\n",
       "      <td>吉林省白城市29日對外發布「白城市新能源與氫能產業發展規畫」，正式開啟「氫能經濟」新時代。該...</td>\n",
       "    </tr>\n",
       "  </tbody>\n",
       "</table>\n",
       "</div>"
      ],
      "text/plain": [
       "         date                   title  \\\n",
       "0  2019-05-30       美匯率操縱國觀察名單 陸等9國入列   \n",
       "1  2019-05-29  梅伊因無法脫歐下台 這位高層以同樣原因繼續做   \n",
       "2  2019-05-30           吉林振興 開啟氫能經濟時代   \n",
       "\n",
       "                                             content  \n",
       "0  美國財政部28日公布最新匯率報告，中國大陸被列入觀察名單，財長米努勤點名人民幣匯率缺乏透明度...  \n",
       "1  英國國會下議院議長伯考（John Bercow）在美國出席活動時告訴英國衛報，脫歐尚未完成，...  \n",
       "2  吉林省白城市29日對外發布「白城市新能源與氫能產業發展規畫」，正式開啟「氫能經濟」新時代。該...  "
      ]
     },
     "execution_count": 4,
     "metadata": {},
     "output_type": "execute_result"
    }
   ],
   "source": [
    "# UDN 聯合報\n",
    "\n",
    "table_udn = pd.read_csv('udn.csv')\n",
    "table_udn.head(3)"
   ]
  },
  {
   "cell_type": "code",
   "execution_count": 5,
   "metadata": {},
   "outputs": [
    {
     "data": {
      "text/html": [
       "<div>\n",
       "<style scoped>\n",
       "    .dataframe tbody tr th:only-of-type {\n",
       "        vertical-align: middle;\n",
       "    }\n",
       "\n",
       "    .dataframe tbody tr th {\n",
       "        vertical-align: top;\n",
       "    }\n",
       "\n",
       "    .dataframe thead th {\n",
       "        text-align: right;\n",
       "    }\n",
       "</style>\n",
       "<table border=\"1\" class=\"dataframe\">\n",
       "  <thead>\n",
       "    <tr style=\"text-align: right;\">\n",
       "      <th></th>\n",
       "      <th>date</th>\n",
       "      <th>title</th>\n",
       "      <th>content</th>\n",
       "    </tr>\n",
       "  </thead>\n",
       "  <tbody>\n",
       "    <tr>\n",
       "      <th>0</th>\n",
       "      <td>2019-05-30</td>\n",
       "      <td>習6月訪俄 將與普丁簽「兩個重要聯合聲明」</td>\n",
       "      <td>大陸國家主席習近平主席6月將出訪俄羅斯。對此，大陸外交部副部長張漢暉30日介紹習近平這次出訪...</td>\n",
       "    </tr>\n",
       "    <tr>\n",
       "      <th>1</th>\n",
       "      <td>2019-05-30</td>\n",
       "      <td>國際學術組織IEEE被爆 禁華為員工擔任審稿人</td>\n",
       "      <td>由於美國對大陸通信巨頭華為實施制裁，一個全球主要的科學學會被曝禁止華為員工，擔任旗下期刊雜志...</td>\n",
       "    </tr>\n",
       "    <tr>\n",
       "      <th>2</th>\n",
       "      <td>2019-05-30</td>\n",
       "      <td>發展5G 美邊批陸邊向日招手</td>\n",
       "      <td>美國準備聯合日本發展5G網絡建設？美國駐日大使海格提（William Hagerty）與共和...</td>\n",
       "    </tr>\n",
       "  </tbody>\n",
       "</table>\n",
       "</div>"
      ],
      "text/plain": [
       "         date                    title  \\\n",
       "0  2019-05-30    習6月訪俄 將與普丁簽「兩個重要聯合聲明」   \n",
       "1  2019-05-30  國際學術組織IEEE被爆 禁華為員工擔任審稿人   \n",
       "2  2019-05-30           發展5G 美邊批陸邊向日招手   \n",
       "\n",
       "                                             content  \n",
       "0  大陸國家主席習近平主席6月將出訪俄羅斯。對此，大陸外交部副部長張漢暉30日介紹習近平這次出訪...  \n",
       "1  由於美國對大陸通信巨頭華為實施制裁，一個全球主要的科學學會被曝禁止華為員工，擔任旗下期刊雜志...  \n",
       "2  美國準備聯合日本發展5G網絡建設？美國駐日大使海格提（William Hagerty）與共和...  "
      ]
     },
     "execution_count": 5,
     "metadata": {},
     "output_type": "execute_result"
    }
   ],
   "source": [
    "# chinatimes 中國時報\n",
    "\n",
    "table_chinatimes = pd.read_csv('chinatimes.csv')\n",
    "table_chinatimes.head(3)"
   ]
  },
  {
   "cell_type": "code",
   "execution_count": 6,
   "metadata": {},
   "outputs": [
    {
     "data": {
      "text/html": [
       "<div>\n",
       "<style scoped>\n",
       "    .dataframe tbody tr th:only-of-type {\n",
       "        vertical-align: middle;\n",
       "    }\n",
       "\n",
       "    .dataframe tbody tr th {\n",
       "        vertical-align: top;\n",
       "    }\n",
       "\n",
       "    .dataframe thead th {\n",
       "        text-align: right;\n",
       "    }\n",
       "</style>\n",
       "<table border=\"1\" class=\"dataframe\">\n",
       "  <thead>\n",
       "    <tr style=\"text-align: right;\">\n",
       "      <th></th>\n",
       "      <th>date</th>\n",
       "      <th>title</th>\n",
       "      <th>content</th>\n",
       "    </tr>\n",
       "  </thead>\n",
       "  <tbody>\n",
       "    <tr>\n",
       "      <th>0</th>\n",
       "      <td>2019-04-20</td>\n",
       "      <td>美3紙禁令 打趴中興、晉華、三安</td>\n",
       "      <td>文／記者林燕從通訊巨頭中興到晶片製造商福建晉華，再到現在的LED晶片製造商三安光電，美國商務...</td>\n",
       "    </tr>\n",
       "    <tr>\n",
       "      <th>1</th>\n",
       "      <td>2019-04-19</td>\n",
       "      <td>美司法部公布通俄門報告</td>\n",
       "      <td>【記者梁硯／綜合報導】美國司法部週四（4月18日）上午11時，向國會和公眾公布特別檢察官穆勒...</td>\n",
       "    </tr>\n",
       "    <tr>\n",
       "      <th>2</th>\n",
       "      <td>2019-02-26</td>\n",
       "      <td>傳六「軍虎」被查 均為中將軍銜</td>\n",
       "      <td>【記者李韻／綜合報導】中共前軍委委員、軍委聯合參謀部參謀長房峰輝2月20日被判處無期徒刑後，...</td>\n",
       "    </tr>\n",
       "  </tbody>\n",
       "</table>\n",
       "</div>"
      ],
      "text/plain": [
       "         date             title  \\\n",
       "0  2019-04-20  美3紙禁令 打趴中興、晉華、三安   \n",
       "1  2019-04-19       美司法部公布通俄門報告   \n",
       "2  2019-02-26   傳六「軍虎」被查 均為中將軍銜   \n",
       "\n",
       "                                             content  \n",
       "0  文／記者林燕從通訊巨頭中興到晶片製造商福建晉華，再到現在的LED晶片製造商三安光電，美國商務...  \n",
       "1  【記者梁硯／綜合報導】美國司法部週四（4月18日）上午11時，向國會和公眾公布特別檢察官穆勒...  \n",
       "2  【記者李韻／綜合報導】中共前軍委委員、軍委聯合參謀部參謀長房峰輝2月20日被判處無期徒刑後，...  "
      ]
     },
     "execution_count": 6,
     "metadata": {},
     "output_type": "execute_result"
    }
   ],
   "source": [
    "# epochtimes 大紀元\n",
    "\n",
    "table_epochtimes = pd.read_excel('epochtimes.xlsx')\n",
    "table_epochtimes.head(3)"
   ]
  },
  {
   "cell_type": "markdown",
   "metadata": {},
   "source": [
    "# 2. merge"
   ]
  },
  {
   "cell_type": "code",
   "execution_count": null,
   "metadata": {},
   "outputs": [],
   "source": [
    "table = pd.concat([table_udn, table_chinatimes, table_epochtimes])\n",
    "table.to_excel('news2019.xlsx')"
   ]
  }
 ],
 "metadata": {
  "kernelspec": {
   "display_name": "Python 3",
   "language": "python",
   "name": "python3"
  }
 },
 "nbformat": 4,
 "nbformat_minor": 2
}
