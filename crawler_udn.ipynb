{
 "cells": [
  {
   "cell_type": "markdown",
   "metadata": {},
   "source": [
    "# 1. env. setting"
   ]
  },
  {
   "cell_type": "code",
   "execution_count": 1,
   "metadata": {},
   "outputs": [],
   "source": [
    "from selenium import webdriver\n",
    "from time import sleep\n",
    "import random\n",
    "from selenium.webdriver.support.ui import Select\n",
    "from tqdm import tqdm"
   ]
  },
  {
   "cell_type": "code",
   "execution_count": 2,
   "metadata": {},
   "outputs": [],
   "source": [
    "download_folder = \"C:\\\\Users\\\\sasadm\\\\Anaconda3\\\\downloads\"\n",
    "options = webdriver.ChromeOptions()\n",
    "profile = {\"plugins.plugins_list\": [{\"enabled\": False,\n",
    "                                    \"name\": \"Chrome PDF Viewer\"}],\n",
    "        \"download.default_directory\": download_folder,\n",
    "        \"download.extensions_to_open\": \"\"}\n",
    "options.add_experimental_option(\"prefs\", profile)\n",
    "\n",
    "driver = webdriver.Chrome(executable_path='C:\\\\Users\\\\sasadm\\\\Anaconda3\\\\chromedriver.exe',chrome_options = options)\n",
    "driver.get(\"https://udn.com/news/cate/2/7225/\")\n"
   ]
  },
  {
   "cell_type": "markdown",
   "metadata": {},
   "source": [
    "# 2. crawl world news link"
   ]
  },
  {
   "cell_type": "code",
   "execution_count": 4,
   "metadata": {},
   "outputs": [
    {
     "name": "stdout",
     "output_type": "stream",
     "text": [
      "total links number : 173\n",
      "total links number : 178\n",
      "total links number : 183\n",
      "total links number : 188\n",
      "total links number : 193\n",
      "total links number : 198\n",
      "total links number : 199\n"
     ]
    }
   ],
   "source": [
    "### TBD\n",
    "\n",
    "neededlink = 400\n",
    "lastnum = 0\n",
    "while len(driver.find_elements_by_xpath(\"//a//h2/..\")) < neededlink and (lastnum != len(driver.find_elements_by_xpath(\"//a//h2/..\"))):\n",
    "    lastnum = len(driver.find_elements_by_xpath(\"//a//h2/..\"))\n",
    "    for tag in driver.find_elements_by_link_text(\"看更多內容\"):\n",
    "        try:\n",
    "            tag.click()\n",
    "        except Exception as e:\n",
    "#             print('[ERROR] error occur :', e)\n",
    "            pass\n",
    "        sleep(3. + random.random())\n",
    "        print('total links number :', len(driver.find_elements_by_xpath(\"//a//h2/..\")))\n"
   ]
  },
  {
   "cell_type": "code",
   "execution_count": 5,
   "metadata": {},
   "outputs": [
    {
     "name": "stdout",
     "output_type": "stream",
     "text": [
      "199\n"
     ]
    },
    {
     "data": {
      "text/plain": [
       "['https://global.udn.com/global_vision/story/8662/3842691',\n",
       " 'https://udn.com/news/story/6999/3842517',\n",
       " 'https://global.udn.com/global_vision/story/8662/3842691',\n",
       " 'https://udn.com/news/story/6999/3842517',\n",
       " 'https://udn.com/news/story/6813/3842972?from=udn-catebreaknews_ch2',\n",
       " 'https://udn.com/news/story/6810/3842697?from=udn-catebreaknews_ch2',\n",
       " 'https://udn.com/news/story/6810/3842767?from=udn-catebreaknews_ch2',\n",
       " 'https://udn.com/news/story/6809/3842893?from=udn-catebreaknews_ch2',\n",
       " 'https://udn.com/news/story/6810/3842761?from=udn-catebreaknews_ch2',\n",
       " 'https://udn.com/news/story/12639/3842450?from=udn-catelistnews_ch2']"
      ]
     },
     "execution_count": 5,
     "metadata": {},
     "output_type": "execute_result"
    }
   ],
   "source": [
    "links_world = [tag.get_attribute('href') for tag in driver.find_elements_by_xpath(\"//a//h2/..\")]\n",
    "print(len(links_world))\n",
    "links_world[:10]"
   ]
  },
  {
   "cell_type": "markdown",
   "metadata": {},
   "source": [
    "# 3. crawl china news link"
   ]
  },
  {
   "cell_type": "code",
   "execution_count": 6,
   "metadata": {},
   "outputs": [],
   "source": [
    "driver.get(\"https://udn.com/news/cate/2/6640/\")"
   ]
  },
  {
   "cell_type": "code",
   "execution_count": 8,
   "metadata": {
    "scrolled": true
   },
   "outputs": [
    {
     "name": "stdout",
     "output_type": "stream",
     "text": [
      "total links number : 152\n",
      "total links number : 157\n",
      "total links number : 162\n",
      "total links number : 167\n",
      "total links number : 172\n",
      "total links number : 177\n",
      "total links number : 182\n",
      "total links number : 187\n",
      "total links number : 192\n",
      "total links number : 197\n"
     ]
    }
   ],
   "source": [
    "### TBD\n",
    "\n",
    "neededlink = 400\n",
    "lastnum = 0\n",
    "while len(driver.find_elements_by_xpath(\"//a//h2/..\")) < neededlink and (lastnum != len(driver.find_elements_by_xpath(\"//a//h2/..\"))):\n",
    "    lastnum = len(driver.find_elements_by_xpath(\"//a//h2/..\"))\n",
    "    for tag in driver.find_elements_by_link_text(\"看更多內容\"):\n",
    "        try:\n",
    "            tag.click()\n",
    "        except Exception as e:\n",
    "#             print('[ERROR] error occur :', e)\n",
    "            pass\n",
    "        sleep(3. + random.random())\n",
    "        print('total links number :', len(driver.find_elements_by_xpath(\"//a//h2/..\")))\n"
   ]
  },
  {
   "cell_type": "code",
   "execution_count": 9,
   "metadata": {},
   "outputs": [
    {
     "name": "stdout",
     "output_type": "stream",
     "text": [
      "197\n"
     ]
    },
    {
     "data": {
      "text/plain": [
       "['https://udn.com/news/story/10930/3841994',\n",
       " 'https://global.udn.com/global_vision/story/8662/3842691',\n",
       " 'https://udn.com/news/story/10930/3841994',\n",
       " 'https://global.udn.com/global_vision/story/8662/3842691',\n",
       " 'https://udn.com/news/story/7332/3842911?from=udn-catebreaknews_ch2',\n",
       " 'https://udn.com/news/story/7331/3842867?from=udn-catebreaknews_ch2',\n",
       " 'https://udn.com/news/story/7332/3842828?from=udn-catebreaknews_ch2',\n",
       " 'https://udn.com/news/story/7331/3842795?from=udn-catebreaknews_ch2',\n",
       " 'https://udn.com/news/story/7331/3842797?from=udn-catebreaknews_ch2',\n",
       " 'https://udn.com/news/story/7331/3842867?from=udn-catelistnews_ch2']"
      ]
     },
     "execution_count": 9,
     "metadata": {},
     "output_type": "execute_result"
    }
   ],
   "source": [
    "links_china = [tag.get_attribute('href') for tag in driver.find_elements_by_xpath(\"//a//h2/..\")]\n",
    "print(len(links_china))\n",
    "links_china[:10]"
   ]
  },
  {
   "cell_type": "markdown",
   "metadata": {},
   "source": [
    "# 4. crawl news"
   ]
  },
  {
   "cell_type": "code",
   "execution_count": 10,
   "metadata": {},
   "outputs": [
    {
     "name": "stdout",
     "output_type": "stream",
     "text": [
      "390\n"
     ]
    }
   ],
   "source": [
    "links = links_world + links_china\n",
    "links = list(set(links)) # unique\n",
    "links\n",
    "print(len(links))"
   ]
  },
  {
   "cell_type": "code",
   "execution_count": 11,
   "metadata": {},
   "outputs": [
    {
     "name": "stdout",
     "output_type": "stream",
     "text": [
      "[INFO] process success, (0/390) link : https://udn.com/news/story/6811/3841909?from=udn-catelistnews_ch2\n",
      "[INFO] process success, (1/390) link : https://udn.com/news/story/6811/3841868?from=udn-catelistnews_ch2\n",
      "[INFO] process success, (2/390) link : https://udn.com/news/story/7333/3841912?from=udn-catelistnews_ch2\n",
      "[INFO] process success, (3/390) link : https://udn.com/news/story/6811/3842337?from=udn-catelistnews_ch2\n",
      "[INFO] process success, (4/390) link : https://udn.com/news/story/6811/3841890?from=udn-catelistnews_ch2\n",
      "[INFO] process success, (5/390) link : https://udn.com/news/story/6813/3842972?from=udn-catebreaknews_ch2\n",
      "[INFO] process success, (6/390) link : https://udn.com/news/story/7333/3837755?from=udn-catelistnews_ch2\n",
      "[INFO] process success, (7/390) link : https://udn.com/news/story/6811/2955148?from=udn-catelistnews_ch2\n",
      "[INFO] process success, (8/390) link : https://udn.com/news/story/12639/3841021?from=udn-catelistnews_ch2\n",
      "[INFO] process success, (9/390) link : https://udn.com/news/story/6809/3842358?from=udn-catelistnews_ch2\n",
      "[INFO] process success, (10/390) link : https://udn.com/news/story/6809/3840866?from=udn-catelistnews_ch2\n",
      "[INFO] process success, (11/390) link : https://udn.com/news/story/7333/3839766?from=udn-catelistnews_ch2\n",
      "[INFO] process success, (12/390) link : https://udn.com/news/story/7332/3838978?from=udn-catelistnews_ch2\n",
      "[INFO] process success, (13/390) link : https://udn.com/news/story/6809/3842379?from=udn-catelistnews_ch2\n",
      "[INFO] process success, (14/390) link : https://udn.com/news/story/6811/3842343?from=udn-catelistnews_ch2\n",
      "[INFO] process success, (15/390) link : https://udn.com/news/story/6809/2598334?from=udn-catelistnews_ch2\n",
      "[INFO] process success, (16/390) link : https://udn.com/news/story/7333/3842180?from=udn-catelistnews_ch2\n",
      "[INFO] process success, (17/390) link : https://udn.com/news/story/12639/3840229?from=udn-catelistnews_ch2\n",
      "[INFO] process success, (18/390) link : https://udn.com/news/story/7335/3841110?from=udn-catelistnews_ch2\n",
      "[INFO] process success, (19/390) link : https://udn.com/news/story/7333/3840222?from=udn-catelistnews_ch2\n",
      "[INFO] process success, (20/390) link : https://udn.com/news/story/7331/3838579?from=udn-catelistnews_ch2\n",
      "[INFO] process success, (21/390) link : https://udn.com/news/story/7333/3839723?from=udn-catelistnews_ch2\n",
      "[INFO] process success, (22/390) link : https://udn.com/news/story/6809/3842145?from=udn-catelistnews_ch2\n",
      "[INFO] process success, (23/390) link : https://udn.com/news/story/7331/3842867?from=udn-catebreaknews_ch2\n",
      "[INFO] process success, (24/390) link : https://udn.com/news/story/12639/3842036?from=udn-catelistnews_ch2\n",
      "[ERROR] error occur, (25/390) link : https://global.udn.com/global_vision/story/8664/3840602\n",
      "[INFO] process success, (26/390) link : https://udn.com/news/story/7333/3318741?from=udn-catelistnews_ch2\n",
      "[INFO] process success, (27/390) link : https://udn.com/news/story/7331/3839657?from=udn-catelistnews_ch2\n",
      "[INFO] process success, (28/390) link : https://udn.com/news/story/7331/3842091?from=udn-catelistnews_ch2\n",
      "[INFO] process success, (29/390) link : https://udn.com/news/story/6813/3841019?from=udn-catelistnews_ch2\n",
      "[INFO] process success, (30/390) link : https://udn.com/news/story/12639/3828155?from=udn-catelistnews_ch2\n",
      "[INFO] process success, (31/390) link : https://udn.com/news/story/7331/3841278?from=udn-catelistnews_ch2\n",
      "[INFO] process success, (32/390) link : https://udn.com/news/story/7332/3839818?from=udn-catelistnews_ch2\n",
      "[INFO] process success, (33/390) link : https://udn.com/news/story/6813/3840264?from=udn-catelistnews_ch2\n",
      "[INFO] process success, (34/390) link : https://udn.com/news/story/6812/3841888?from=udn-catelistnews_ch2\n",
      "[INFO] process success, (35/390) link : https://udn.com/news/story/7332/3840416?from=udn-catelistnews_ch2\n",
      "[INFO] process success, (36/390) link : https://udn.com/news/story/12639/3842170?from=udn-catelistnews_ch2\n",
      "[INFO] process success, (37/390) link : https://udn.com/news/story/6810/3840754?from=udn-catelistnews_ch2\n",
      "[INFO] process success, (38/390) link : https://udn.com/news/story/6809/3840306?from=udn-catelistnews_ch2\n",
      "[INFO] process success, (39/390) link : https://udn.com/news/story/7333/3839810?from=udn-catelistnews_ch2\n",
      "[INFO] process success, (40/390) link : https://udn.com/news/story/7335/3839530?from=udn-catelistnews_ch2\n",
      "[INFO] process success, (41/390) link : https://udn.com/news/story/7331/3837072?from=udn-catelistnews_ch2\n",
      "[INFO] process success, (42/390) link : https://udn.com/news/story/12639/3842667?from=udn-catelistnews_ch2\n",
      "[INFO] process success, (43/390) link : https://udn.com/news/story/12639/3842627?from=udn-catelistnews_ch2\n",
      "[INFO] process success, (44/390) link : https://udn.com/news/story/6809/3840350?from=udn-catelistnews_ch2\n",
      "[INFO] process success, (45/390) link : https://udn.com/news/story/7331/3839256?from=udn-catelistnews_ch2\n",
      "[INFO] process success, (46/390) link : https://udn.com/news/story/12639/3842653?from=udn-catelistnews_ch2\n",
      "[ERROR] error occur, (47/390) link : https://udn.com/news/story/6809/3840623?from=udn-catelistnews_ch2\n",
      "[INFO] process success, (48/390) link : https://udn.com/news/story/7331/3841146?from=udn-catelistnews_ch2\n",
      "[INFO] process success, (49/390) link : https://udn.com/news/story/7331/3839816?from=udn-catelistnews_ch2\n",
      "[INFO] process success, (50/390) link : https://udn.com/news/story/7331/3841181?from=udn-catelistnews_ch2\n",
      "[INFO] process success, (51/390) link : https://udn.com/news/story/7335/3838977?from=udn-catelistnews_ch2\n",
      "[INFO] process success, (52/390) link : https://udn.com/news/story/7333/3836895?from=udn-catelistnews_ch2\n",
      "[INFO] process success, (53/390) link : https://udn.com/news/story/12639/3840631?from=udn-catelistnews_ch2\n",
      "[INFO] process success, (54/390) link : https://udn.com/news/story/6811/2940036?from=udn-catelistnews_ch2\n",
      "[INFO] process success, (55/390) link : https://udn.com/news/story/12639/3840268?from=udn-catelistnews_ch2\n",
      "[INFO] process success, (56/390) link : https://udn.com/news/story/6811/3792656?from=udn-catelistnews_ch2\n",
      "[INFO] process success, (57/390) link : https://udn.com/news/story/6999/3842517\n",
      "[INFO] process success, (58/390) link : https://udn.com/news/story/7331/3839116?from=udn-catelistnews_ch2\n",
      "[INFO] process success, (59/390) link : https://udn.com/news/story/10930/3841994\n",
      "[INFO] process success, (60/390) link : https://udn.com/news/story/7333/3840507?from=udn-catelistnews_ch2\n",
      "[INFO] process success, (61/390) link : https://udn.com/news/story/6811/3839911?from=udn-catelistnews_ch2\n",
      "[INFO] process success, (62/390) link : https://udn.com/news/story/7332/3839914?from=udn-catelistnews_ch2\n",
      "[INFO] process success, (63/390) link : https://udn.com/news/story/7331/3837465?from=udn-catelistnews_ch2\n",
      "[INFO] process success, (64/390) link : https://udn.com/news/story/7333/3838435?from=udn-catelistnews_ch2\n",
      "[INFO] process success, (65/390) link : https://udn.com/news/story/6810/3842697?from=udn-catebreaknews_ch2\n",
      "[INFO] process success, (66/390) link : https://udn.com/news/story/6812/3842539?from=udn-catelistnews_ch2\n",
      "[INFO] process success, (67/390) link : https://udn.com/news/story/7332/3838221?from=udn-catelistnews_ch2\n",
      "[INFO] process success, (68/390) link : https://udn.com/news/story/6813/3841101?from=udn-catelistnews_ch2\n",
      "[INFO] process success, (69/390) link : https://udn.com/news/story/7331/3839553?from=udn-catelistnews_ch2\n",
      "[INFO] process success, (70/390) link : https://udn.com/news/story/7331/3842797?from=udn-catebreaknews_ch2\n",
      "[INFO] process success, (71/390) link : https://udn.com/news/story/6809/3841403?from=udn-catelistnews_ch2\n",
      "[INFO] process success, (72/390) link : https://udn.com/news/story/6811/3841540?from=udn-catelistnews_ch2\n",
      "[INFO] process success, (73/390) link : https://udn.com/news/story/12639/3842737?from=udn-catelistnews_ch2\n",
      "[INFO] process success, (74/390) link : https://udn.com/news/story/6809/3841353?from=udn-catehotnews_ch2\n",
      "[INFO] process success, (75/390) link : https://udn.com/news/story/7333/3839822?from=udn-catelistnews_ch2\n",
      "[INFO] process success, (76/390) link : https://udn.com/news/story/7333/3841918?from=udn-catelistnews_ch2\n"
     ]
    },
    {
     "name": "stdout",
     "output_type": "stream",
     "text": [
      "[INFO] process success, (77/390) link : https://udn.com/news/story/7335/3836498?from=udn-catelistnews_ch2\n",
      "[INFO] process success, (78/390) link : https://udn.com/news/story/7332/3842828?from=udn-catelistnews_ch2\n",
      "[INFO] process success, (79/390) link : https://udn.com/news/story/6811/3842196?from=udn-catelistnews_ch2\n",
      "[INFO] process success, (80/390) link : https://udn.com/news/story/6811/2969944?from=udn-catelistnews_ch2\n",
      "[INFO] process success, (81/390) link : https://udn.com/news/story/6813/3842457?from=udn-catelistnews_ch2\n",
      "[INFO] process success, (82/390) link : https://udn.com/news/story/7331/3840635?from=udn-catelistnews_ch2\n",
      "[INFO] process success, (83/390) link : https://udn.com/news/story/6812/3841120?from=udn-catelistnews_ch2\n",
      "[INFO] process success, (84/390) link : https://udn.com/news/story/7332/3839905?from=udn-catelistnews_ch2\n",
      "[INFO] process success, (85/390) link : https://udn.com/news/story/7333/3837491?from=udn-catelistnews_ch2\n",
      "[INFO] process success, (86/390) link : https://udn.com/news/story/6811/3841468?from=udn-catehotnews_ch2\n",
      "[INFO] process success, (87/390) link : https://udn.com/news/story/7333/3842147?from=udn-catelistnews_ch2\n",
      "[INFO] process success, (88/390) link : https://udn.com/news/story/7332/3839535?from=udn-catelistnews_ch2\n",
      "[INFO] process success, (89/390) link : https://udn.com/news/story/12639/3842429?from=udn-catehotnews_ch2\n",
      "[INFO] process success, (90/390) link : https://udn.com/news/story/6811/3842366?from=udn-catelistnews_ch2\n",
      "[INFO] process success, (91/390) link : https://udn.com/news/story/6811/3841788?from=udn-catelistnews_ch2\n",
      "[INFO] process success, (92/390) link : https://udn.com/news/story/7331/3837288?from=udn-catelistnews_ch2\n",
      "[INFO] process success, (93/390) link : https://udn.com/news/story/6809/3841037?from=udn-catelistnews_ch2\n",
      "[INFO] process success, (94/390) link : https://udn.com/news/story/7335/3838788?from=udn-catelistnews_ch2\n",
      "[INFO] process success, (95/390) link : https://udn.com/news/story/7331/3840792?from=udn-catelistnews_ch2\n",
      "[ERROR] error occur, (96/390) link : https://global.udn.com/global_vision/story/8662/3841417\n",
      "[INFO] process success, (97/390) link : https://udn.com/news/story/7333/3839873?from=udn-catelistnews_ch2\n",
      "[INFO] process success, (98/390) link : https://udn.com/news/story/6813/3840361?from=udn-catelistnews_ch2\n",
      "[INFO] process success, (99/390) link : https://udn.com/news/story/6809/3677072?from=udn-catelistnews_ch2\n",
      "[INFO] process success, (100/390) link : https://udn.com/news/story/7332/3837965?from=udn-catelistnews_ch2\n",
      "[INFO] process success, (101/390) link : https://udn.com/news/story/12639/3841098?from=udn-catelistnews_ch2\n",
      "[INFO] process success, (102/390) link : https://udn.com/news/story/6811/3840699?from=udn-catelistnews_ch2\n",
      "[INFO] process success, (103/390) link : https://udn.com/news/story/7331/3838818?from=udn-catelistnews_ch2\n",
      "[INFO] process success, (104/390) link : https://udn.com/news/story/7333/3837642?from=udn-catelistnews_ch2\n",
      "[INFO] process success, (105/390) link : https://udn.com/news/story/7331/3840793?from=udn-catelistnews_ch2\n",
      "[INFO] process success, (106/390) link : https://udn.com/news/story/12639/3840175?from=udn-catelistnews_ch2\n",
      "[INFO] process success, (107/390) link : https://udn.com/news/story/6813/3840733?from=udn-catelistnews_ch2\n",
      "[INFO] process success, (108/390) link : https://udn.com/news/story/6809/3842565?from=udn-catelistnews_ch2\n",
      "[INFO] process success, (109/390) link : https://udn.com/news/story/6809/3841613?from=udn-catelistnews_ch2\n",
      "[INFO] process success, (110/390) link : https://udn.com/news/story/7333/3331855?from=udn-catelistnews_ch2\n",
      "[INFO] process success, (111/390) link : https://udn.com/news/story/6812/3842644?from=udn-catelistnews_ch2\n",
      "[INFO] process success, (112/390) link : https://udn.com/news/story/6811/3841399?from=udn-catelistnews_ch2\n",
      "[INFO] process success, (113/390) link : https://udn.com/news/story/6809/3842112?from=udn-catelistnews_ch2\n",
      "[INFO] process success, (114/390) link : https://udn.com/news/story/6812/3840412?from=udn-catelistnews_ch2\n",
      "[INFO] process success, (115/390) link : https://udn.com/news/story/6809/3842144?from=udn-catelistnews_ch2\n",
      "[INFO] process success, (116/390) link : https://udn.com/news/story/7332/3842911?from=udn-catelistnews_ch2\n",
      "[INFO] process success, (117/390) link : https://udn.com/news/story/6811/3839907?from=udn-catelistnews_ch2\n",
      "[INFO] process success, (118/390) link : https://udn.com/news/story/7331/3841139?from=udn-catelistnews_ch2\n",
      "[INFO] process success, (119/390) link : https://udn.com/news/story/6811/3841945?from=udn-catelistnews_ch2\n",
      "[INFO] process success, (120/390) link : https://udn.com/news/story/7332/3836964?from=udn-catelistnews_ch2\n",
      "[INFO] process success, (121/390) link : https://udn.com/news/story/7331/3841290?from=udn-catelistnews_ch2\n",
      "[INFO] process success, (122/390) link : https://udn.com/news/story/7332/3837735?from=udn-catelistnews_ch2\n",
      "[INFO] process success, (123/390) link : https://udn.com/news/story/7332/3836877?from=udn-catelistnews_ch2\n",
      "[INFO] process success, (124/390) link : https://udn.com/news/story/6809/3841307?from=udn-catelistnews_ch2\n",
      "[INFO] process success, (125/390) link : https://udn.com/news/story/7331/3841817?from=udn-catelistnews_ch2\n",
      "[INFO] process success, (126/390) link : https://udn.com/news/story/7332/3839814?from=udn-catelistnews_ch2\n",
      "[INFO] process success, (127/390) link : https://udn.com/news/story/6812/3842400?from=udn-catelistnews_ch2\n",
      "[INFO] process success, (128/390) link : https://udn.com/news/story/12639/3842456?from=udn-catelistnews_ch2\n",
      "[INFO] process success, (129/390) link : https://udn.com/news/story/6809/3841736?from=udn-catelistnews_ch2\n",
      "[INFO] process success, (130/390) link : https://udn.com/news/story/7332/3839812?from=udn-catelistnews_ch2\n",
      "[INFO] process success, (131/390) link : https://udn.com/news/story/6811/3842132?from=udn-catelistnews_ch2\n",
      "[INFO] process success, (132/390) link : https://udn.com/news/story/12639/3842741?from=udn-catelistnews_ch2\n",
      "[INFO] process success, (133/390) link : https://udn.com/news/story/7335/3837799?from=udn-catelistnews_ch2\n",
      "[ERROR] error occur, (134/390) link : https://udn.com/news/story/6809/3842718?from=udn-catelistnews_ch2\n",
      "[INFO] process success, (135/390) link : https://udn.com/news/story/6810/3842697?from=udn-catelistnews_ch2\n",
      "[INFO] process success, (136/390) link : https://udn.com/news/story/12639/3842450?from=udn-catelistnews_ch2\n",
      "[INFO] process success, (137/390) link : https://udn.com/news/story/7333/3842178?from=udn-catelistnews_ch2\n",
      "[INFO] process success, (138/390) link : https://udn.com/news/story/6813/3841099?from=udn-catelistnews_ch2\n",
      "[INFO] process success, (139/390) link : https://udn.com/news/story/6811/3840819?from=udn-catelistnews_ch2\n",
      "[INFO] process success, (140/390) link : https://udn.com/news/story/7331/3841290?from=udn-catehotnews_ch2\n",
      "[INFO] process success, (141/390) link : https://udn.com/news/story/7331/3840836?from=udn-catehotnews_ch2\n",
      "[INFO] process success, (142/390) link : https://udn.com/news/story/7333/3842676?from=udn-catelistnews_ch2\n",
      "[INFO] process success, (143/390) link : https://udn.com/news/story/7333/3736632?from=udn-catelistnews_ch2\n",
      "[INFO] process success, (144/390) link : https://udn.com/news/story/12639/3842181?from=udn-catelistnews_ch2\n",
      "[ERROR] error occur, (145/390) link : https://global.udn.com/global_vision/story/8662/3842760\n",
      "[INFO] process success, (146/390) link : https://udn.com/news/story/6810/3841845?from=udn-catehotnews_ch2\n",
      "[INFO] process success, (147/390) link : https://udn.com/news/story/7333/3839770?from=udn-catelistnews_ch2\n",
      "[INFO] process success, (148/390) link : https://udn.com/news/story/7333/3837749?from=udn-catelistnews_ch2\n",
      "[INFO] process success, (149/390) link : https://udn.com/news/story/7331/3836978?from=udn-catelistnews_ch2\n",
      "[INFO] process success, (150/390) link : https://udn.com/news/story/12639/3842390?from=udn-catelistnews_ch2\n",
      "[INFO] process success, (151/390) link : https://udn.com/news/story/7331/3840319?from=udn-catelistnews_ch2\n",
      "[INFO] process success, (152/390) link : https://udn.com/news/story/6811/3688482?from=udn-catelistnews_ch2\n",
      "[INFO] process success, (153/390) link : https://udn.com/news/story/7332/3838589?from=udn-catelistnews_ch2\n"
     ]
    },
    {
     "name": "stdout",
     "output_type": "stream",
     "text": [
      "[INFO] process success, (154/390) link : https://udn.com/news/story/7331/3837962?from=udn-catelistnews_ch2\n",
      "[INFO] process success, (155/390) link : https://udn.com/news/story/12639/3840868?from=udn-catelistnews_ch2\n",
      "[INFO] process success, (156/390) link : https://udn.com/news/story/7335/3839491?from=udn-catelistnews_ch2\n",
      "[INFO] process success, (157/390) link : https://udn.com/news/story/7331/3842506?from=udn-catelistnews_ch2\n",
      "[ERROR] error occur, (158/390) link : https://global.udn.com/global_vision/story/8662/3841178\n",
      "[INFO] process success, (159/390) link : https://udn.com/news/story/7333/3838004?from=udn-catelistnews_ch2\n",
      "[INFO] process success, (160/390) link : https://udn.com/news/story/12639/3841698?from=udn-catelistnews_ch2\n",
      "[INFO] process success, (161/390) link : https://udn.com/news/story/6811/3688048?from=udn-catelistnews_ch2\n",
      "[INFO] process success, (162/390) link : https://udn.com/news/story/7333/3841029?from=udn-catelistnews_ch2\n",
      "[INFO] process success, (163/390) link : https://udn.com/news/story/7331/3841412?from=udn-catelistnews_ch2\n",
      "[INFO] process success, (164/390) link : https://udn.com/news/story/6811/3841039?from=udn-catelistnews_ch2\n",
      "[INFO] process success, (165/390) link : https://udn.com/news/story/6813/3841289?from=udn-catelistnews_ch2\n",
      "[INFO] process success, (166/390) link : https://udn.com/news/story/7332/3836965?from=udn-catelistnews_ch2\n",
      "[INFO] process success, (167/390) link : https://udn.com/news/story/6809/3840633?from=udn-catelistnews_ch2\n",
      "[INFO] process success, (168/390) link : https://udn.com/news/story/7333/3841921?from=udn-catelistnews_ch2\n",
      "[INFO] process success, (169/390) link : https://udn.com/news/story/7331/3839408?from=udn-catelistnews_ch2\n",
      "[INFO] process success, (170/390) link : https://udn.com/news/story/6809/2598339?from=udn-catelistnews_ch2\n",
      "[INFO] process success, (171/390) link : https://udn.com/news/story/7332/3839769?from=udn-catelistnews_ch2\n",
      "[INFO] process success, (172/390) link : https://udn.com/news/story/7333/3842675?from=udn-catelistnews_ch2\n",
      "[INFO] process success, (173/390) link : https://udn.com/news/story/6809/3841035?from=udn-catelistnews_ch2\n",
      "[INFO] process success, (174/390) link : https://udn.com/news/story/7333/3842051?from=udn-catelistnews_ch2\n",
      "[INFO] process success, (175/390) link : https://udn.com/news/story/7332/3842054?from=udn-catelistnews_ch2\n",
      "[INFO] process success, (176/390) link : https://udn.com/news/story/6810/3842767?from=udn-catelistnews_ch2\n",
      "[INFO] process success, (177/390) link : https://udn.com/news/story/6811/3840700?from=udn-catelistnews_ch2\n",
      "[INFO] process success, (178/390) link : https://udn.com/news/story/7333/3831067?from=udn-catelistnews_ch2\n",
      "[INFO] process success, (179/390) link : https://udn.com/news/story/6809/3841092?from=udn-catelistnews_ch2\n",
      "[INFO] process success, (180/390) link : https://udn.com/news/story/7331/3841181?from=udn-catehotnews_ch2\n",
      "[ERROR] error occur, (181/390) link : https://udn.com/news/story/7331/3837466?from=udn-catelistnews_ch2\n",
      "[INFO] process success, (182/390) link : https://udn.com/news/story/6812/3757549?from=udn-catelistnews_ch2\n",
      "[INFO] process success, (183/390) link : https://udn.com/news/story/7332/3842567?from=udn-catelistnews_ch2\n",
      "[INFO] process success, (184/390) link : https://udn.com/news/story/7332/3840790?from=udn-catelistnews_ch2\n",
      "[INFO] process success, (185/390) link : https://udn.com/news/story/6811/3331932?from=udn-catelistnews_ch2\n",
      "[INFO] process success, (186/390) link : https://udn.com/news/story/6813/3840940?from=udn-catelistnews_ch2\n",
      "[INFO] process success, (187/390) link : https://udn.com/news/story/7331/3836887?from=udn-catelistnews_ch2\n",
      "[INFO] process success, (188/390) link : https://udn.com/news/story/6811/3842381?from=udn-catelistnews_ch2\n",
      "[INFO] process success, (189/390) link : https://udn.com/news/story/6811/3839910?from=udn-catelistnews_ch2\n",
      "[INFO] process success, (190/390) link : https://udn.com/news/story/7333/3842172?from=udn-catelistnews_ch2\n",
      "[INFO] process success, (191/390) link : https://udn.com/news/story/6809/3842503?from=udn-catelistnews_ch2\n",
      "[INFO] process success, (192/390) link : https://udn.com/news/story/12639/3836210?from=udn-catelistnews_ch2\n",
      "[INFO] process success, (193/390) link : https://udn.com/news/story/6811/3841658?from=udn-catelistnews_ch2\n",
      "[INFO] process success, (194/390) link : https://udn.com/news/story/7333/3840628?from=udn-catelistnews_ch2\n",
      "[INFO] process success, (195/390) link : https://udn.com/news/story/7331/3840604?from=udn-catelistnews_ch2\n",
      "[INFO] process success, (196/390) link : https://udn.com/news/story/7333/3837742?from=udn-catelistnews_ch2\n",
      "[INFO] process success, (197/390) link : https://udn.com/news/story/7332/3840390?from=udn-catelistnews_ch2\n",
      "[INFO] process success, (198/390) link : https://udn.com/news/story/7335/3833998?from=udn-catelistnews_ch2\n",
      "[INFO] process success, (199/390) link : https://udn.com/news/story/6810/3842767?from=udn-catebreaknews_ch2\n",
      "[INFO] process success, (200/390) link : https://udn.com/news/story/6811/3841391?from=udn-catelistnews_ch2\n",
      "[INFO] process success, (201/390) link : https://udn.com/news/story/6809/3842509?from=udn-catelistnews_ch2\n",
      "[INFO] process success, (202/390) link : https://udn.com/news/story/7333/3841910?from=udn-catelistnews_ch2\n",
      "[INFO] process success, (203/390) link : https://udn.com/news/story/7331/3838588?from=udn-catelistnews_ch2\n",
      "[INFO] process success, (204/390) link : https://udn.com/news/story/7331/3840445?from=udn-catelistnews_ch2\n",
      "[INFO] process success, (205/390) link : https://udn.com/news/story/7331/3838482?from=udn-catelistnews_ch2\n",
      "[INFO] process success, (206/390) link : https://udn.com/news/story/12639/3842168?from=udn-catelistnews_ch2\n",
      "[INFO] process success, (207/390) link : https://udn.com/news/story/6810/3838725?from=udn-catelistnews_ch2\n",
      "[INFO] process success, (208/390) link : https://udn.com/news/story/7332/3836885?from=udn-catelistnews_ch2\n",
      "[INFO] process success, (209/390) link : https://udn.com/news/story/7331/3842636?from=udn-catehotnews_ch2\n",
      "[INFO] process success, (210/390) link : https://udn.com/news/story/6810/3842846?from=udn-catelistnews_ch2\n",
      "[INFO] process success, (211/390) link : https://udn.com/news/story/7333/3842151?from=udn-catelistnews_ch2\n",
      "[ERROR] error occur, (212/390) link : https://udn.com/news/story/7331/3839328?from=udn-catelistnews_ch2\n",
      "[INFO] process success, (213/390) link : https://udn.com/news/story/7331/3840118?from=udn-catelistnews_ch2\n",
      "[INFO] process success, (214/390) link : https://udn.com/news/story/12639/3841262?from=udn-catelistnews_ch2\n",
      "[INFO] process success, (215/390) link : https://udn.com/news/story/6813/3840076?from=udn-catelistnews_ch2\n",
      "[INFO] process success, (216/390) link : https://udn.com/news/story/7331/3842798?from=udn-catelistnews_ch2\n",
      "[INFO] process success, (217/390) link : https://udn.com/news/story/12639/3840244?from=udn-catelistnews_ch2\n",
      "[INFO] process success, (218/390) link : https://udn.com/news/story/7333/3842175?from=udn-catelistnews_ch2\n",
      "[INFO] process success, (219/390) link : https://udn.com/news/story/7335/3836602?from=udn-catelistnews_ch2\n",
      "[INFO] process success, (220/390) link : https://udn.com/news/story/6809/3842119?from=udn-catelistnews_ch2\n",
      "[INFO] process success, (221/390) link : https://udn.com/news/story/12639/3842626?from=udn-catelistnews_ch2\n",
      "[INFO] process success, (222/390) link : https://udn.com/news/story/6810/3837090?from=udn-catelistnews_ch2\n",
      "[INFO] process success, (223/390) link : https://udn.com/news/story/7333/3838428?from=udn-catelistnews_ch2\n",
      "[INFO] process success, (224/390) link : https://udn.com/news/story/7332/3838587?from=udn-catelistnews_ch2\n",
      "[INFO] process success, (225/390) link : https://udn.com/news/story/7333/3826726?from=udn-catelistnews_ch2\n",
      "[INFO] process success, (226/390) link : https://udn.com/news/story/6811/3772684?from=udn-catelistnews_ch2\n",
      "[INFO] process success, (227/390) link : https://udn.com/news/story/7335/3836979?from=udn-catelistnews_ch2\n",
      "[INFO] process success, (228/390) link : https://udn.com/news/story/7332/3842043?from=udn-catelistnews_ch2\n",
      "[INFO] process success, (229/390) link : https://udn.com/news/story/7332/3838421?from=udn-catelistnews_ch2\n"
     ]
    },
    {
     "name": "stdout",
     "output_type": "stream",
     "text": [
      "[INFO] process success, (230/390) link : https://udn.com/news/story/6811/3842122?from=udn-catelistnews_ch2\n",
      "[INFO] process success, (231/390) link : https://udn.com/news/story/7332/3841917?from=udn-catelistnews_ch2\n",
      "[INFO] process success, (232/390) link : https://udn.com/news/story/12639/3841204?from=udn-catelistnews_ch2\n",
      "[INFO] process success, (233/390) link : https://udn.com/news/story/6810/3840721?from=udn-catelistnews_ch2\n",
      "[INFO] process success, (234/390) link : https://udn.com/news/story/7332/3842828?from=udn-catebreaknews_ch2\n",
      "[INFO] process success, (235/390) link : https://udn.com/news/story/6809/3842861?from=udn-catelistnews_ch2\n",
      "[INFO] process success, (236/390) link : https://udn.com/news/story/6811/3841953?from=udn-catelistnews_ch2\n",
      "[INFO] process success, (237/390) link : https://udn.com/news/story/6811/3842127?from=udn-catelistnews_ch2\n",
      "[INFO] process success, (238/390) link : https://udn.com/news/story/12639/3842465?from=udn-catelistnews_ch2\n",
      "[INFO] process success, (239/390) link : https://udn.com/news/story/6809/3823612?from=udn-catelistnews_ch2\n",
      "[INFO] process success, (240/390) link : https://udn.com/news/story/7331/3840620?from=udn-catelistnews_ch2\n",
      "[INFO] process success, (241/390) link : https://udn.com/news/story/7333/3837921?from=udn-catelistnews_ch2\n",
      "[INFO] process success, (242/390) link : https://udn.com/news/story/6811/3831711?from=udn-catelistnews_ch2\n",
      "[INFO] process success, (243/390) link : https://udn.com/news/story/6813/3841103?from=udn-catelistnews_ch2\n",
      "[INFO] process success, (244/390) link : https://udn.com/news/story/7335/3837368?from=udn-catelistnews_ch2\n",
      "[INFO] process success, (245/390) link : https://udn.com/news/story/7331/3839188?from=udn-catelistnews_ch2\n",
      "[INFO] process success, (246/390) link : https://udn.com/news/story/6809/3840407?from=udn-catelistnews_ch2\n",
      "[INFO] process success, (247/390) link : https://udn.com/news/story/7331/3805555?from=udn-catelistnews_ch2\n",
      "[INFO] process success, (248/390) link : https://udn.com/news/story/7331/3841004?from=udn-catehotnews_ch2\n",
      "[INFO] process success, (249/390) link : https://udn.com/news/story/7332/3839938?from=udn-catelistnews_ch2\n",
      "[INFO] process success, (250/390) link : https://udn.com/news/story/6810/3842761?from=udn-catelistnews_ch2\n",
      "[INFO] process success, (251/390) link : https://udn.com/news/story/6812/3841938?from=udn-catelistnews_ch2\n",
      "[INFO] process success, (252/390) link : https://udn.com/news/story/7332/3840327?from=udn-catelistnews_ch2\n",
      "[INFO] process success, (253/390) link : https://udn.com/news/story/6809/3842703?from=udn-catelistnews_ch2\n",
      "[ERROR] error occur, (254/390) link : https://udn.com/news/story/6812/3842845?from=udn-catelistnews_ch2\n",
      "[INFO] process success, (255/390) link : https://udn.com/news/story/6812/3842320?from=udn-catelistnews_ch2\n",
      "[INFO] process success, (256/390) link : https://udn.com/news/story/7332/3836828?from=udn-catelistnews_ch2\n",
      "[INFO] process success, (257/390) link : https://udn.com/news/story/7333/3837462?from=udn-catelistnews_ch2\n",
      "[ERROR] error occur, (258/390) link : https://udn.com/news/story/6809/3841216?from=udn-catelistnews_ch2\n",
      "[ERROR] error occur, (259/390) link : https://udn.com/news/story/6812/3842117?from=udn-catelistnews_ch2\n",
      "[INFO] process success, (260/390) link : https://udn.com/news/story/7332/3842911?from=udn-catebreaknews_ch2\n",
      "[INFO] process success, (261/390) link : https://udn.com/news/story/7332/3838798?from=udn-catelistnews_ch2\n",
      "[INFO] process success, (262/390) link : https://udn.com/news/story/6813/3842330?from=udn-catelistnews_ch2\n",
      "[INFO] process success, (263/390) link : https://udn.com/news/story/6813/3841206?from=udn-catelistnews_ch2\n",
      "[INFO] process success, (264/390) link : https://udn.com/news/story/7333/3839876?from=udn-catelistnews_ch2\n",
      "[INFO] process success, (265/390) link : https://udn.com/news/story/6809/3842893?from=udn-catelistnews_ch2\n",
      "[INFO] process success, (266/390) link : https://udn.com/news/story/7331/3842636?from=udn-catelistnews_ch2\n",
      "[INFO] process success, (267/390) link : https://udn.com/news/story/7331/3841004?from=udn-catelistnews_ch2\n",
      "[INFO] process success, (268/390) link : https://udn.com/news/story/7332/3837751?from=udn-catelistnews_ch2\n",
      "[ERROR] error occur, (269/390) link : https://udn.com/news/story/12639/3840980?from=udn-catelistnews_ch2\n",
      "[INFO] process success, (270/390) link : https://udn.com/news/story/7331/3842066?from=udn-catelistnews_ch2\n",
      "[INFO] process success, (271/390) link : https://udn.com/news/story/7333/3842040?from=udn-catelistnews_ch2\n",
      "[INFO] process success, (272/390) link : https://udn.com/news/story/6809/3841353?from=udn-catelistnews_ch2\n",
      "[INFO] process success, (273/390) link : https://udn.com/news/story/12639/3842692?from=udn-catelistnews_ch2\n",
      "[INFO] process success, (274/390) link : https://udn.com/news/story/7333/3840770?from=udn-catelistnews_ch2\n",
      "[INFO] process success, (275/390) link : https://udn.com/news/story/7333/3842033?from=udn-catelistnews_ch2\n",
      "[INFO] process success, (276/390) link : https://udn.com/news/story/7331/3836886?from=udn-catelistnews_ch2\n",
      "[INFO] process success, (277/390) link : https://udn.com/news/story/6809/3841552?from=udn-catelistnews_ch2\n",
      "[INFO] process success, (278/390) link : https://udn.com/news/story/6811/3839909?from=udn-catelistnews_ch2\n",
      "[INFO] process success, (279/390) link : https://udn.com/news/story/7333/3839875?from=udn-catelistnews_ch2\n",
      "[INFO] process success, (280/390) link : https://udn.com/news/story/7332/3838493?from=udn-catelistnews_ch2\n",
      "[INFO] process success, (281/390) link : https://udn.com/news/story/7331/3840567?from=udn-catelistnews_ch2\n",
      "[INFO] process success, (282/390) link : https://udn.com/news/story/6811/3836023?from=udn-catelistnews_ch2\n",
      "[INFO] process success, (283/390) link : https://udn.com/news/story/12639/3841203?from=udn-catelistnews_ch2\n",
      "[INFO] process success, (284/390) link : https://udn.com/news/story/6812/3836997?from=udn-catelistnews_ch2\n",
      "[INFO] process success, (285/390) link : https://udn.com/news/story/7331/3837164?from=udn-catelistnews_ch2\n",
      "[INFO] process success, (286/390) link : https://udn.com/news/story/7332/3838935?from=udn-catelistnews_ch2\n",
      "[INFO] process success, (287/390) link : https://udn.com/news/story/7331/3840800?from=udn-catelistnews_ch2\n",
      "[INFO] process success, (288/390) link : https://udn.com/news/story/7331/3829981?from=udn-catelistnews_ch2\n",
      "[INFO] process success, (289/390) link : https://udn.com/news/story/6813/3841102?from=udn-catelistnews_ch2\n",
      "[INFO] process success, (290/390) link : https://udn.com/news/story/6811/3678661?from=udn-catelistnews_ch2\n",
      "[INFO] process success, (291/390) link : https://udn.com/news/story/6811/3841311?from=udn-catelistnews_ch2\n",
      "[INFO] process success, (292/390) link : https://udn.com/news/story/7333/3839761?from=udn-catelistnews_ch2\n",
      "[INFO] process success, (293/390) link : https://udn.com/news/story/6809/3842379?from=udn-catehotnews_ch2\n",
      "[INFO] process success, (294/390) link : https://udn.com/news/story/7333/3833428?from=udn-catelistnews_ch2\n",
      "[INFO] process success, (295/390) link : https://udn.com/news/story/6813/3840484?from=udn-catelistnews_ch2\n",
      "[INFO] process success, (296/390) link : https://udn.com/news/story/6809/2598338?from=udn-catelistnews_ch2\n",
      "[INFO] process success, (297/390) link : https://udn.com/news/story/7333/3840838?from=udn-catelistnews_ch2\n",
      "[INFO] process success, (298/390) link : https://udn.com/news/story/12639/3831461?from=udn-catelistnews_ch2\n",
      "[INFO] process success, (299/390) link : https://udn.com/news/story/12639/3827631?from=udn-catelistnews_ch2\n",
      "[INFO] process success, (300/390) link : https://udn.com/news/story/6809/3758631?from=udn-catelistnews_ch2\n",
      "[INFO] process success, (301/390) link : https://udn.com/news/story/7333/3837741?from=udn-catelistnews_ch2\n",
      "[INFO] process success, (302/390) link : https://udn.com/news/story/7331/3842795?from=udn-catebreaknews_ch2\n",
      "[INFO] process success, (303/390) link : https://udn.com/news/story/7333/3842166?from=udn-catelistnews_ch2\n",
      "[INFO] process success, (304/390) link : https://udn.com/news/story/6809/3840629?from=udn-catelistnews_ch2\n",
      "[INFO] process success, (305/390) link : https://udn.com/news/story/7333/3332000?from=udn-catelistnews_ch2\n"
     ]
    },
    {
     "name": "stdout",
     "output_type": "stream",
     "text": [
      "[INFO] process success, (306/390) link : https://udn.com/news/story/7333/3842155?from=udn-catelistnews_ch2\n",
      "[INFO] process success, (307/390) link : https://udn.com/news/story/6812/3841017?from=udn-catelistnews_ch2\n",
      "[INFO] process success, (308/390) link : https://udn.com/news/story/7332/3839771?from=udn-catelistnews_ch2\n",
      "[INFO] process success, (309/390) link : https://udn.com/news/story/6811/3839110?from=udn-catelistnews_ch2\n",
      "[INFO] process success, (310/390) link : https://udn.com/news/story/6811/2966718?from=udn-catelistnews_ch2\n",
      "[INFO] process success, (311/390) link : https://udn.com/news/story/7333/3839872?from=udn-catelistnews_ch2\n",
      "[INFO] process success, (312/390) link : https://udn.com/news/story/6809/3842118?from=udn-catelistnews_ch2\n",
      "[INFO] process success, (313/390) link : https://udn.com/news/story/7333/3841147?from=udn-catelistnews_ch2\n",
      "[INFO] process success, (314/390) link : https://udn.com/news/story/12639/3842646?from=udn-catelistnews_ch2\n",
      "[INFO] process success, (315/390) link : https://udn.com/news/story/6811/3127268?from=udn-catelistnews_ch2\n",
      "[INFO] process success, (316/390) link : https://udn.com/news/story/6809/3841214?from=udn-catelistnews_ch2\n",
      "[INFO] process success, (317/390) link : https://udn.com/news/story/7331/3842797?from=udn-catelistnews_ch2\n",
      "[INFO] process success, (318/390) link : https://udn.com/news/story/7331/3840284?from=udn-catelistnews_ch2\n",
      "[INFO] process success, (319/390) link : https://udn.com/news/story/6812/3840624?from=udn-catelistnews_ch2\n",
      "[INFO] process success, (320/390) link : https://udn.com/news/story/6811/3840634?from=udn-catelistnews_ch2\n",
      "[INFO] process success, (321/390) link : https://udn.com/news/story/6811/3840345?from=udn-catelistnews_ch2\n",
      "[INFO] process success, (322/390) link : https://udn.com/news/story/7332/3837738?from=udn-catelistnews_ch2\n",
      "[INFO] process success, (323/390) link : https://udn.com/news/story/7333/3842674?from=udn-catelistnews_ch2\n",
      "[INFO] process success, (324/390) link : https://udn.com/news/story/7331/3842065?from=udn-catelistnews_ch2\n",
      "[INFO] process success, (325/390) link : https://udn.com/news/story/7331/3837655?from=udn-catelistnews_ch2\n",
      "[INFO] process success, (326/390) link : https://udn.com/news/story/7333/3839550?from=udn-catelistnews_ch2\n",
      "[INFO] process success, (327/390) link : https://udn.com/news/story/7333/3842157?from=udn-catelistnews_ch2\n",
      "[INFO] process success, (328/390) link : https://udn.com/news/story/12639/3840853?from=udn-catelistnews_ch2\n",
      "[INFO] process success, (329/390) link : https://udn.com/news/story/7331/3838586?from=udn-catelistnews_ch2\n",
      "[INFO] process success, (330/390) link : https://udn.com/news/story/12639/3842429?from=udn-catelistnews_ch2\n",
      "[INFO] process success, (331/390) link : https://udn.com/news/story/7333/3839931?from=udn-catelistnews_ch2\n",
      "[INFO] process success, (332/390) link : https://udn.com/news/story/7333/3842149?from=udn-catelistnews_ch2\n",
      "[INFO] process success, (333/390) link : https://udn.com/news/story/6811/3840932?from=udn-catelistnews_ch2\n",
      "[INFO] process success, (334/390) link : https://udn.com/news/story/6809/3842893?from=udn-catebreaknews_ch2\n",
      "[INFO] process success, (335/390) link : https://udn.com/news/story/6811/3839908?from=udn-catelistnews_ch2\n",
      "[INFO] process success, (336/390) link : https://udn.com/news/story/6810/3841308?from=udn-catelistnews_ch2\n",
      "[INFO] process success, (337/390) link : https://udn.com/news/story/7333/3837740?from=udn-catelistnews_ch2\n",
      "[INFO] process success, (338/390) link : https://udn.com/news/story/7332/3837733?from=udn-catelistnews_ch2\n",
      "[INFO] process success, (339/390) link : https://udn.com/news/story/6812/3841851?from=udn-catelistnews_ch2\n",
      "[INFO] process success, (340/390) link : https://udn.com/news/story/7332/3839272?from=udn-catelistnews_ch2\n",
      "[INFO] process success, (341/390) link : https://udn.com/news/story/6813/3842332?from=udn-catelistnews_ch2\n",
      "[INFO] process success, (342/390) link : https://udn.com/news/story/6810/3841845?from=udn-catelistnews_ch2\n",
      "[INFO] process success, (343/390) link : https://udn.com/news/story/7333/3837756?from=udn-catelistnews_ch2\n",
      "[INFO] process success, (344/390) link : https://udn.com/news/story/6810/3842808?from=udn-catelistnews_ch2\n",
      "[INFO] process success, (345/390) link : https://udn.com/news/story/12639/3841667?from=udn-catelistnews_ch2\n",
      "[INFO] process success, (346/390) link : https://udn.com/news/story/7331/3838871?from=udn-catelistnews_ch2\n",
      "[INFO] process success, (347/390) link : https://udn.com/news/story/12639/3841906?from=udn-catelistnews_ch2\n",
      "[INFO] process success, (348/390) link : https://udn.com/news/story/7333/3839811?from=udn-catelistnews_ch2\n",
      "[INFO] process success, (349/390) link : https://udn.com/news/story/7333/3841148?from=udn-catelistnews_ch2\n",
      "[INFO] process success, (350/390) link : https://udn.com/news/story/12639/3841907?from=udn-catelistnews_ch2\n",
      "[INFO] process success, (351/390) link : https://udn.com/news/story/12639/3840249?from=udn-catelistnews_ch2\n",
      "[INFO] process success, (352/390) link : https://udn.com/news/story/7332/2596389?from=udn-catelistnews_ch2\n",
      "[ERROR] error occur, (353/390) link : https://global.udn.com/global_vision/story/8662/3842691\n",
      "[INFO] process success, (354/390) link : https://udn.com/news/story/6813/3842972?from=udn-catelistnews_ch2\n",
      "[INFO] process success, (355/390) link : https://udn.com/news/story/7331/3842070?from=udn-catelistnews_ch2\n",
      "[INFO] process success, (356/390) link : https://udn.com/news/story/7332/3839821?from=udn-catelistnews_ch2\n",
      "[INFO] process success, (357/390) link : https://udn.com/news/story/7332/3838970?from=udn-catelistnews_ch2\n",
      "[INFO] process success, (358/390) link : https://udn.com/news/story/7331/3842795?from=udn-catelistnews_ch2\n",
      "[INFO] process success, (359/390) link : https://udn.com/news/story/7333/3840893?from=udn-catelistnews_ch2\n",
      "[INFO] process success, (360/390) link : https://udn.com/news/story/6809/3841927?from=udn-catelistnews_ch2\n",
      "[INFO] process success, (361/390) link : https://udn.com/news/story/6813/3840632?from=udn-catelistnews_ch2\n",
      "[ERROR] error occur, (362/390) link : https://udn.com/news/story/7331/3841470?from=udn-catelistnews_ch2\n",
      "[INFO] process success, (363/390) link : https://udn.com/news/story/6811/3841478?from=udn-catelistnews_ch2\n",
      "[INFO] process success, (364/390) link : https://udn.com/news/story/6810/3838286?from=udn-catelistnews_ch2\n",
      "[INFO] process success, (365/390) link : https://udn.com/news/story/6810/3842761?from=udn-catebreaknews_ch2\n",
      "[INFO] process success, (366/390) link : https://udn.com/news/story/6811/3841359?from=udn-catelistnews_ch2\n",
      "[ERROR] error occur, (367/390) link : https://udn.com/news/story/7331/3838530?from=udn-catelistnews_ch2\n",
      "[INFO] process success, (368/390) link : https://udn.com/news/story/7331/3841345?from=udn-catelistnews_ch2\n",
      "[INFO] process success, (369/390) link : https://udn.com/news/story/7331/3840836?from=udn-catelistnews_ch2\n",
      "[INFO] process success, (370/390) link : https://udn.com/news/story/7332/3838979?from=udn-catelistnews_ch2\n",
      "[INFO] process success, (371/390) link : https://udn.com/news/story/7332/3838442?from=udn-catelistnews_ch2\n",
      "[INFO] process success, (372/390) link : https://udn.com/news/story/7333/3837745?from=udn-catelistnews_ch2\n",
      "[INFO] process success, (373/390) link : https://udn.com/news/story/12639/3842399?from=udn-catelistnews_ch2\n",
      "[INFO] process success, (374/390) link : https://udn.com/news/story/7333/3822648?from=udn-catelistnews_ch2\n",
      "[INFO] process success, (375/390) link : https://udn.com/news/story/7332/3837432?from=udn-catelistnews_ch2\n",
      "[INFO] process success, (376/390) link : https://udn.com/news/story/12639/3842402?from=udn-catelistnews_ch2\n",
      "[INFO] process success, (377/390) link : https://udn.com/news/story/6809/3840930?from=udn-catelistnews_ch2\n",
      "[INFO] process success, (378/390) link : https://udn.com/news/story/7332/3837834?from=udn-catelistnews_ch2\n",
      "[INFO] process success, (379/390) link : https://udn.com/news/story/7333/3837893?from=udn-catelistnews_ch2\n",
      "[INFO] process success, (380/390) link : https://udn.com/news/story/6811/3839902?from=udn-catelistnews_ch2\n",
      "[INFO] process success, (381/390) link : https://udn.com/news/story/6809/3842566?from=udn-catelistnews_ch2\n"
     ]
    },
    {
     "name": "stdout",
     "output_type": "stream",
     "text": [
      "[INFO] process success, (382/390) link : https://udn.com/news/story/6812/3840556?from=udn-catelistnews_ch2\n",
      "[INFO] process success, (383/390) link : https://udn.com/news/story/6811/3842128?from=udn-catelistnews_ch2\n",
      "[INFO] process success, (384/390) link : https://udn.com/news/story/7331/3842867?from=udn-catelistnews_ch2\n",
      "[INFO] process success, (385/390) link : https://udn.com/news/story/6811/3842317?from=udn-catelistnews_ch2\n",
      "[INFO] process success, (386/390) link : https://udn.com/news/story/6811/3841468?from=udn-catelistnews_ch2\n",
      "[INFO] process success, (387/390) link : https://udn.com/news/story/7331/3842010?from=udn-catelistnews_ch2\n",
      "[INFO] process success, (388/390) link : https://udn.com/news/story/7333/3836892?from=udn-catelistnews_ch2\n",
      "[INFO] process success, (389/390) link : https://udn.com/news/story/6812/3842530?from=udn-catelistnews_ch2\n"
     ]
    }
   ],
   "source": [
    "titles = []\n",
    "contents = []\n",
    "dates = []\n",
    "\n",
    "for idx, link in enumerate(links) :\n",
    "    driver.get(link)\n",
    "    sleep(1.+random.random()) # sleep 1 ~ 2 sec, wait loading\n",
    "    \n",
    "    # extract info\n",
    "    title = None\n",
    "    date = None\n",
    "    content = None\n",
    "    try:\n",
    "        rawcontent = driver.find_element_by_xpath(\"//div[@id='story_body_content']\").text\n",
    "        title = rawcontent.split('\\n')[0]\n",
    "        # find date\n",
    "        spltStr = None\n",
    "        for subcontent in rawcontent.split('\\n')[5:]:\n",
    "            if '-' in subcontent and ':' in subcontent:\n",
    "                date = subcontent.split(' ')[0]\n",
    "                spltStr = subcontent\n",
    "                break\n",
    "        if spltStr:\n",
    "            content = rawcontent.split(spltStr)[-1].replace('\\n','')\n",
    "            titles.append(title)\n",
    "            dates.append(date)\n",
    "            contents.append(content)\n",
    "            print('[INFO] process success, (%d/%d) link : %s' % (idx, len(links), link))\n",
    "        else:\n",
    "            print('[ERROR] process fail, (%d/%d) link : %s' % (idx, len(links), link))\n",
    "    except:\n",
    "        print('[ERROR] error occur, (%d/%d) link : %s' % (idx, len(links), link))"
   ]
  },
  {
   "cell_type": "code",
   "execution_count": 13,
   "metadata": {},
   "outputs": [
    {
     "name": "stdout",
     "output_type": "stream",
     "text": [
      "acc rate : (375/390)\n"
     ]
    }
   ],
   "source": [
    "print('acc rate : (%d/%d)' % (len(titles),len(links)))"
   ]
  },
  {
   "cell_type": "markdown",
   "metadata": {},
   "source": [
    "# 5. output csv"
   ]
  },
  {
   "cell_type": "code",
   "execution_count": 17,
   "metadata": {},
   "outputs": [
    {
     "name": "stdout",
     "output_type": "stream",
     "text": [
      "[INFO] the result has been saved successfully : ./udn.csv\n"
     ]
    }
   ],
   "source": [
    "import pandas as pd\n",
    "\n",
    "if len(titles) == len(contents) and len(contents) == len(dates):\n",
    "    df = pd.DataFrame({'title':titles, 'content':contents, 'date':dates})\n",
    "    df = df[['date', 'title', 'content']]\n",
    "    df.to_csv('udn.csv', encoding='utf-8', index=False)\n",
    "    print('[INFO] the result has been saved successfully : ./udn.csv')\n",
    "else:\n",
    "    print('[ERROR] mismatch lengths of titles, contents, and dates list')"
   ]
  }
 ],
 "metadata": {
  "kernelspec": {
   "display_name": "Python 3",
   "language": "python",
   "name": "python3"
  },
  "language_info": {
   "codemirror_mode": {
    "name": "ipython",
    "version": 3
   },
   "file_extension": ".py",
   "mimetype": "text/x-python",
   "name": "python",
   "nbconvert_exporter": "python",
   "pygments_lexer": "ipython3",
   "version": "3.6.4"
  }
 },
 "nbformat": 4,
 "nbformat_minor": 2
}
